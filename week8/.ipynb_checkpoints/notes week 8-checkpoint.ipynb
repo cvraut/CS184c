{
 "cells": [
  {
   "cell_type": "code",
   "execution_count": 16,
   "metadata": {
    "collapsed": true
   },
   "outputs": [],
   "source": [
    "states = {'Rainy','Sunny'}\n",
    "observations = {\"walk\",\"shop\",\"clean\"}\n",
    "start_probability = {'Rainy':0.6,'Sunny':0.4}\n",
    "transition_probability = {'Rainy':{'Rainy':0.7,'Sunny':0.3},'Sunny':{'Rainy':0.4,'Sunny':0.6}}\n",
    "emission_probability = {'Rainy':{'walk':0.1,'shop':0.4,'clean':0.5},\"Sunny\":{'walk':0.6,'shop':0.3,'clean':0.1}}"
   ]
  },
  {
   "cell_type": "code",
   "execution_count": 15,
   "metadata": {},
   "outputs": [
    {
     "name": "stdout",
     "output_type": "stream",
     "text": [
      "0.30000000000000004\n",
      "0.36000000000000004\n",
      "0.3400000000000001\n",
      "0.03276\n",
      "[0 0 1]\n"
     ]
    }
   ],
   "source": [
    "from hmmlearn import hmm\n",
    "import numpy as np\n",
    "import math\n",
    "\n",
    "model = hmm.MultinomialHMM(n_components=2)\n",
    "model.startprob_ = np.array([0.6,0.4])\n",
    "model.transmat_ = np.array([[0.7,0.3],[0.4,0.6]])\n",
    "model.emissionprob_ = np.array([[0.1,0.4,0.5],[0.6,0.3,0.1]])\n",
    "\n",
    "# given a model likelihood of sequence 0 from happening (walk being 1st observation)\n",
    "print(math.exp(model.score(np.array([[0]]))))\n",
    "# given a model likelihood of sequence 0 from happening (shop being 1st observation)\n",
    "print(math.exp(model.score(np.array([[1]]))))\n",
    "# given a model likelihood of sequence 0 from happening (clean being 1st observation)\n",
    "print(math.exp(model.score(np.array([[2]]))))\n",
    "\n",
    "# given a model likelihood of sequence 1,2,0 from happening\n",
    "print(math.exp(model.score(np.array([[1,2,0]]))))\n",
    "logprob,seq = model.decode(np.array([[1,2,0]]).transpose())\n",
    "print(seq)"
   ]
  },
  {
   "cell_type": "code",
   "execution_count": null,
   "metadata": {
    "collapsed": true
   },
   "outputs": [],
   "source": [
    "states = ['Rainy','Sunny']\n",
    "obs = [\"Happy\",\"Sad\"]\n",
    "start_p = {\"Rainy\":1.0/3.0,\"Sunny\":2.0/3.0}\n",
    "trans_p = {'Rainy':{'Rainy':0.6,'Sunny':0.4},'Sunny':{'Rainy':0.2,'Sunny':0.8}}\n",
    "em_p = {'Rainy':{\"Happy\":0.4,\"Sad\":0.6},\"Sunny\":{\"Happy\":0.8,\"Sad\":0.2}}\n",
    "\n",
    "emotion_model = hmm.MultinomialHMM(n_components=2)\n",
    "emotion_model.startp = np.array(start_p[\"Rainy\"],start_p[\"Sunny\"])\n",
    "emotion_model.transp = np.array([trans_p[\"Rainy\"][\"Rainy\"],trans_p[\"Rainy\"][\"Sunny\"]],[trans_p[\"Sunny\"][\"Rainy\"],trans_p[\"Sunny\"][\"Sunny\"]])\n",
    "emotion_model.emp = np.array([em_p[\"Rainy\"][\"Happy\"],em_p[\"Rainy\"][\"Sad\"]],[em_p[\"Sunny\"][\"Happy\"],em_p[\"Sunny\"][\"Sad\"]])\n",
    "\n",
    "# Rainy = 0\n",
    "# Sunny = 1\n",
    "\n",
    "# Happy = 0\n",
    "# Sad = 1\n",
    "\n",
    "logprob,seq = model.decode(np.array([[0,1]]).transpose())\n",
    "print()"
   ]
  }
 ],
 "metadata": {
  "kernelspec": {
   "display_name": "Python 3",
   "language": "python",
   "name": "python3"
  },
  "language_info": {
   "codemirror_mode": {
    "name": "ipython",
    "version": 3
   },
   "file_extension": ".py",
   "mimetype": "text/x-python",
   "name": "python",
   "nbconvert_exporter": "python",
   "pygments_lexer": "ipython3",
   "version": "3.6.3"
  }
 },
 "nbformat": 4,
 "nbformat_minor": 2
}
