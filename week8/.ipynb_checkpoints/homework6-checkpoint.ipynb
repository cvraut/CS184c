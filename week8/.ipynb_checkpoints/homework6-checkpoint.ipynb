{
 "cells": [
  {
   "cell_type": "markdown",
   "metadata": {
    "collapsed": true
   },
   "source": [
    "Chinmay Raut (93345289)\n",
    "# Homework 6"
   ]
  },
  {
   "cell_type": "code",
   "execution_count": 1,
   "metadata": {
    "collapsed": true
   },
   "outputs": [],
   "source": [
    "from hmmlearn import hmm\n",
    "import numpy as np\n",
    "import math"
   ]
  },
  {
   "cell_type": "markdown",
   "metadata": {},
   "source": [
    "build a hidden markov model with the states drawn in class"
   ]
  },
  {
   "cell_type": "code",
   "execution_count": 2,
   "metadata": {
    "collapsed": true
   },
   "outputs": [],
   "source": [
    "states = ['Rainy','Sunny']\n",
    "obs = [\"Happy\",\"Sad\"]\n",
    "start_p = {\"Rainy\":1.0/3.0,\"Sunny\":2.0/3.0}\n",
    "trans_p = {'Rainy':{'Rainy':0.6,'Sunny':0.4},'Sunny':{'Rainy':0.2,'Sunny':0.8}}\n",
    "em_p = {'Rainy':{\"Happy\":0.4,\"Sad\":0.6},\"Sunny\":{\"Happy\":0.8,\"Sad\":0.2}}\n",
    "\n",
    "emotion_model = hmm.MultinomialHMM(n_components=2)\n",
    "emotion_model.startprob_ = np.array([start_p[\"Rainy\"],start_p[\"Sunny\"]])\n",
    "emotion_model.transmat_ = np.array([[trans_p[\"Rainy\"][\"Rainy\"],trans_p[\"Rainy\"][\"Sunny\"]],[trans_p[\"Sunny\"][\"Rainy\"],trans_p[\"Sunny\"][\"Sunny\"]]])\n",
    "emotion_model.emissionprob_ = np.array([[em_p[\"Rainy\"][\"Happy\"],em_p[\"Rainy\"][\"Sad\"]],[em_p[\"Sunny\"][\"Happy\"],em_p[\"Sunny\"][\"Sad\"]]])\n",
    "\n",
    "# Rainy = 0\n",
    "# Sunny = 1\n",
    "\n",
    "# Happy = 0\n",
    "# Sad = 1\n",
    "\n",
    "def solve(solving_for):\n",
    "    for observations in solving_for:\n",
    "        print(\"observed:\",\" -> \".join(map(lambda i:obs[i],observations)))\n",
    "        logprob,seq = emotion_model.decode(np.array([observations]).transpose())\n",
    "        print(\"predicted:\",\" -> \".join(map(lambda i:states[i],seq)))\n",
    "        print(\"Probability of occurence: {}%\\n\".format(100*math.exp(logprob)))"
   ]
  },
  {
   "cell_type": "markdown",
   "metadata": {
    "collapsed": true
   },
   "source": [
    "calculate by hand:\n",
    " - happy $\\rightarrow$ sad\n",
    " - happy $\\rightarrow$ sad $\\rightarrow$ happy\n",
    " - happy $\\rightarrow$ happy $\\rightarrow$ sad $\\rightarrow$ sad $\\rightarrow$ sad $\\rightarrow$ happy (using viterbi)"
   ]
  },
  {
   "cell_type": "markdown",
   "metadata": {},
   "source": [
    "Did work on a whiteboard (was gonna use latex, but no just no...):\n",
    "\n",
    "Calculating Happy $\\rightarrow$ Sad:\n",
    "![Calculating Happy $\\rightarrow$ Sad:](HS.jpg)\n",
    "\n",
    "Expected values of hidden variables = Sunny $\\rightarrow$ Sunny with Prob of occurrence = $8.5\\bar{3}$%\n",
    "\n",
    "\n",
    "\n",
    "Calculating Happy $\\rightarrow$ Sad $\\rightarrow$ Happy:\n",
    "![Calculating Happy $\\rightarrow$ Sad $\\rightarrow$ Happy:](HSH.jpg)\n",
    "\n",
    "Expected values of hidden variables = Sunny $\\rightarrow$ Sunny $\\rightarrow$ Sunny with Prob of occurrence = $5.461\\bar{3}$%\n",
    "\n",
    "\n",
    "\n",
    "Calculating Happy $\\rightarrow$ Happy $\\rightarrow$ Sad $\\rightarrow$ Sad $\\rightarrow$ Sad $\\rightarrow$ Happy:\n",
    "![Calculating Happy $\\rightarrow$ Happy $\\rightarrow$ Sad $\\rightarrow$ Sad $\\rightarrow$ Sad $\\rightarrow$ Happy:](HHSSSH.jpg)\n",
    "\n",
    "Expected values of hidden variables = Sunny $\\rightarrow$ Sunny $\\rightarrow$ Rainy $\\rightarrow$ Rainy $\\rightarrow$ Rainy $\\rightarrow$ Sunny with Prob of occurrence = $0.169869312$%"
   ]
  },
  {
   "cell_type": "markdown",
   "metadata": {},
   "source": [
    "verify your results with the model you have just built"
   ]
  },
  {
   "cell_type": "code",
   "execution_count": 3,
   "metadata": {},
   "outputs": [
    {
     "name": "stdout",
     "output_type": "stream",
     "text": [
      "observed: Happy -> Sad\n",
      "predicted: Sunny -> Sunny\n",
      "Probability of occurence: 8.533333333333335%\n",
      "\n",
      "observed: Happy -> Sad -> Happy\n",
      "predicted: Sunny -> Sunny -> Sunny\n",
      "Probability of occurence: 5.461333333333335%\n",
      "\n",
      "observed: Happy -> Happy -> Sad -> Sad -> Sad -> Happy\n",
      "predicted: Sunny -> Sunny -> Rainy -> Rainy -> Rainy -> Sunny\n",
      "Probability of occurence: 0.16986931200000013%\n",
      "\n"
     ]
    }
   ],
   "source": [
    "verification = [\n",
    "    [0,1],\n",
    "    [0,1,0],\n",
    "    [0,0,1,1,1,0]\n",
    "]\n",
    "solve(verification)"
   ]
  },
  {
   "cell_type": "markdown",
   "metadata": {},
   "source": [
    "figure out the HMM chain of hidden states for happy->sad->happy->sad->happy->sad->happy"
   ]
  },
  {
   "cell_type": "code",
   "execution_count": 4,
   "metadata": {},
   "outputs": [
    {
     "name": "stdout",
     "output_type": "stream",
     "text": [
      "observed: Happy -> Sad -> Happy -> Sad -> Happy -> Sad -> Happy\n",
      "predicted: Sunny -> Sunny -> Sunny -> Sunny -> Sunny -> Sunny -> Sunny\n",
      "Probability of occurence: 0.05726623061333338%\n",
      "\n"
     ]
    }
   ],
   "source": [
    "last_one = [[0,1,0,1,0,1,0]]\n",
    "solve(last_one)"
   ]
  }
 ],
 "metadata": {
  "kernelspec": {
   "display_name": "Python 3",
   "language": "python",
   "name": "python3"
  },
  "language_info": {
   "codemirror_mode": {
    "name": "ipython",
    "version": 3
   },
   "file_extension": ".py",
   "mimetype": "text/x-python",
   "name": "python",
   "nbconvert_exporter": "python",
   "pygments_lexer": "ipython3",
   "version": "3.6.3"
  }
 },
 "nbformat": 4,
 "nbformat_minor": 2
}
