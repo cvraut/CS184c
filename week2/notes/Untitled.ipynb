{
 "cells": [
  {
   "cell_type": "markdown",
   "metadata": {},
   "source": [
    "more recursion & dp"
   ]
  },
  {
   "cell_type": "code",
   "execution_count": 1,
   "metadata": {
    "collapsed": true
   },
   "outputs": [],
   "source": [
    "# naive fib\n",
    "def fib(n):\n",
    "    if n == 0:\n",
    "        return 0\n",
    "    elif n == 1:\n",
    "        return 1\n",
    "    return fib(n-1)+fib(n-2)"
   ]
  },
  {
   "cell_type": "code",
   "execution_count": 2,
   "metadata": {},
   "outputs": [
    {
     "data": {
      "text/plain": [
       "9227465"
      ]
     },
     "execution_count": 2,
     "metadata": {},
     "output_type": "execute_result"
    }
   ],
   "source": [
    "fib(35) #takes forever cuz O(2**n) EXPONENTIAL TIME!!!"
   ]
  },
  {
   "cell_type": "code",
   "execution_count": 3,
   "metadata": {
    "collapsed": true
   },
   "outputs": [],
   "source": [
    "# linear time fib\n",
    "def fib(n):\n",
    "    away2 = 0\n",
    "    away1 = 1\n",
    "    if n == 0:\n",
    "        return away2\n",
    "    while n > 1:\n",
    "        away2,away1 = away1,away2+away1\n",
    "        n-=1\n",
    "    return away1"
   ]
  },
  {
   "cell_type": "code",
   "execution_count": 5,
   "metadata": {},
   "outputs": [
    {
     "data": {
      "text/plain": [
       "9227465"
      ]
     },
     "execution_count": 5,
     "metadata": {},
     "output_type": "execute_result"
    }
   ],
   "source": [
    "fib(35) #much better 👌"
   ]
  },
  {
   "cell_type": "markdown",
   "metadata": {},
   "source": [
    "convert multiline fasta to single line\n",
    "\n",
    "use seek & tell to access data in file really fast\n",
    "\n",
    "go through fasta -> figure out headers\n",
    "\n",
    "inside shared/fastacontigparser\n",
    "\n",
    "passing in header\n",
    "\n",
    "convert the headers to single-line fasta files\n",
    "\n",
    "try to parallelize it ;)\n",
    "\n",
    "write out contig as a file -> fname only contains alphnum & underscores\n",
    "\n"
   ]
  }
 ],
 "metadata": {
  "kernelspec": {
   "display_name": "Python 3",
   "language": "python",
   "name": "python3"
  },
  "language_info": {
   "codemirror_mode": {
    "name": "ipython",
    "version": 3
   },
   "file_extension": ".py",
   "mimetype": "text/x-python",
   "name": "python",
   "nbconvert_exporter": "python",
   "pygments_lexer": "ipython3",
   "version": "3.6.3"
  }
 },
 "nbformat": 4,
 "nbformat_minor": 2
}
